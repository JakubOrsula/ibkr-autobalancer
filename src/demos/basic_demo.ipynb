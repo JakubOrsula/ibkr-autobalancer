{
 "cells": [
  {
   "cell_type": "markdown",
   "metadata": {},
   "source": [
    "# TWS API DEMO\n",
    "\n",
    "+ ensure that you have TWS and running, API enabled etc... (see README.md)\n",
    "+ market data subscriptions are not needed as live prices are extracted from yahoo finance\n",
    "+ this example is *self-contained* meaning that it doesn't use any other .py files or anything\n",
    "+ you can run it if you have installed dependencies and enabled api (as specified in README.md)"
   ]
  },
  {
   "cell_type": "code",
   "execution_count": 1,
   "outputs": [],
   "source": [
    "import yfinance as yf\n",
    "import math"
   ],
   "metadata": {
    "collapsed": false,
    "pycharm": {
     "name": "#%%\n"
    }
   }
  },
  {
   "cell_type": "code",
   "execution_count": 2,
   "metadata": {
    "pycharm": {
     "name": "#%%\n"
    }
   },
   "outputs": [],
   "source": [
    "from ib_insync import *\n",
    "util.startLoop()\n",
    "\n",
    "ib = IB()"
   ]
  },
  {
   "cell_type": "code",
   "execution_count": 3,
   "metadata": {
    "pycharm": {
     "name": "#%%\n"
    }
   },
   "outputs": [
    {
     "name": "stdout",
     "output_type": "stream",
     "text": [
      "connecting\n",
      "connected\n"
     ]
    }
   ],
   "source": [
    "# ensure that we connect just once\n",
    "if not ib.isConnected():\n",
    "    print('connecting')\n",
    "    ib.connect('127.0.0.1', 7497, clientId=0, readonly=False)\n",
    "    if ib.isConnected():\n",
    "        ib.reqMarketDataType(1)\n",
    "        print('connected')\n",
    "    else:\n",
    "        print('Error, try again or smthing')\n",
    "else:\n",
    "    print('already connected')\n"
   ]
  },
  {
   "cell_type": "code",
   "execution_count": 4,
   "metadata": {
    "pycharm": {
     "name": "#%%\n"
    }
   },
   "outputs": [],
   "source": [
    "# todo - move to utils, add currency and autoconversion\n",
    "# port over the ib price getting\n",
    "def get_current_price(ticker, yahoo=True):\n",
    "    if yahoo:\n",
    "        # todo handle none, wrong ticker etc\n",
    "        t = yf.Ticker(ticker)\n",
    "        return t.info[\"regularMarketPrice\"]\n",
    "    else:\n",
    "        raise NotImplemented(\"This feature is not implemented yet\")"
   ]
  },
  {
   "cell_type": "code",
   "execution_count": 5,
   "metadata": {
    "pycharm": {
     "name": "#%%\n"
    }
   },
   "outputs": [],
   "source": [
    "pos = ib.positions()\n",
    "\n",
    "# it is assumed that available funds are in eur\n",
    "cash_to_burn = [v for v in ib.accountValues() if v.tag == 'AvailableFunds' and v.currency == 'EUR'][0].value\n",
    "cash_to_burn = float(cash_to_burn) - 50 # we want to have some money left\n"
   ]
  },
  {
   "cell_type": "code",
   "execution_count": 6,
   "outputs": [],
   "source": [
    "def round_down(x, a):\n",
    "    return math.floor(x / a) * a\n",
    "\n",
    "def round_nearest(x, a):\n",
    "    return round(x / a) * a"
   ],
   "metadata": {
    "collapsed": false,
    "pycharm": {
     "name": "#%%\n"
    }
   }
  },
  {
   "cell_type": "code",
   "execution_count": 7,
   "outputs": [
    {
     "name": "stdout",
     "output_type": "stream",
     "text": [
      "Going to buy 8483 VWCE at 104.48\n"
     ]
    }
   ],
   "source": [
    "vwce_price = get_current_price('VWCE.DE')\n",
    "vwce_to_buy = math.floor(cash_to_burn / vwce_price)\n",
    "print(f'Going to buy {vwce_to_buy} VWCE at {vwce_price}')"
   ],
   "metadata": {
    "collapsed": false,
    "pycharm": {
     "name": "#%%\n"
    }
   }
  },
  {
   "cell_type": "code",
   "execution_count": 8,
   "metadata": {
    "pycharm": {
     "name": "#%%\n"
    }
   },
   "outputs": [
    {
     "data": {
      "text/plain": "[TradeLogEntry(time=datetime.datetime(2021, 11, 21, 10, 28, 23, 658859, tzinfo=datetime.timezone.utc), status='PendingSubmit', message='', errorCode=0),\n TradeLogEntry(time=datetime.datetime(2021, 11, 21, 10, 28, 23, 845653, tzinfo=datetime.timezone.utc), status='PreSubmitted', message='', errorCode=0),\n TradeLogEntry(time=datetime.datetime(2021, 11, 21, 10, 28, 23, 913200, tzinfo=datetime.timezone.utc), status='Submitted', message='', errorCode=0)]"
     },
     "execution_count": 8,
     "metadata": {},
     "output_type": "execute_result"
    }
   ],
   "source": [
    "ib_contract = Stock(\"VWCE\", \"SMART\", \"EUR\")\n",
    "ib.qualifyContracts(ib_contract)\n",
    "\n",
    "# round price to nearest multiple of 0.05, bc exchange requires it and TWS ain't gonna do it for ourselves\n",
    "# it might vary between securities\n",
    "if vwce_to_buy < 1:\n",
    "    print(\"You don't have enough to buy a share of VWCE. What a looser!\")\n",
    "order = LimitOrder('BUY', vwce_to_buy, round_nearest(vwce_price * 1.03, 0.05))\n",
    "trade = ib.placeOrder(ib_contract, order)\n",
    "\n",
    "ib.sleep(5)\n",
    "trade.log"
   ]
  },
  {
   "cell_type": "code",
   "execution_count": 9,
   "metadata": {
    "pycharm": {
     "name": "#%%\n"
    }
   },
   "outputs": [],
   "source": [
    "ib.disconnect()\n"
   ]
  }
 ],
 "metadata": {
  "kernelspec": {
   "display_name": "Python 3 (ipykernel)",
   "language": "python",
   "name": "python3"
  },
  "language_info": {
   "codemirror_mode": {
    "name": "ipython",
    "version": 3
   },
   "file_extension": ".py",
   "mimetype": "text/x-python",
   "name": "python",
   "nbconvert_exporter": "python",
   "pygments_lexer": "ipython3",
   "version": "3.8.10"
  }
 },
 "nbformat": 4,
 "nbformat_minor": 1
}